{
 "cells": [
  {
   "cell_type": "raw",
   "id": "3c9c58b3-46b7-4576-a32e-acddcd6ebd02",
   "metadata": {},
   "source": [
    "Q1. # Key features of Python\n",
    "\n",
    "- It is used in the data industry\n",
    "- Consist of lot of libraries\n",
    "- Easy to read and learn\n",
    "- Versatility and Extensibility\n",
    "- Scalable"
   ]
  },
  {
   "cell_type": "raw",
   "id": "6f524a6f-2b0d-452a-a5d0-9dd4f0572e31",
   "metadata": {},
   "source": [
    "Q2. Role of predefined keywords\n",
    "\n",
    "The predefined function have the special meaning and have specific purpose in the python language.\n",
    "\n",
    "The predefined keywords are \"if\", \"else\", \"elif\", \"while\", \"continue\", \"break\", etc."
   ]
  },
  {
   "cell_type": "code",
   "execution_count": 1,
   "id": "75393cec-b402-4eca-b98a-225ed085e645",
   "metadata": {},
   "outputs": [
    {
     "data": {
      "text/plain": [
       "str"
      ]
     },
     "execution_count": 1,
     "metadata": {},
     "output_type": "execute_result"
    }
   ],
   "source": [
    "a = \"Anjali\"\n",
    "type(a)"
   ]
  },
  {
   "cell_type": "code",
   "execution_count": 2,
   "id": "1708d7e6-a3bd-4d8e-afb7-c675ae40ed43",
   "metadata": {},
   "outputs": [
    {
     "name": "stdout",
     "output_type": "stream",
     "text": [
      "Equals to 10\n"
     ]
    }
   ],
   "source": [
    "x = 10\n",
    "if x > 10:\n",
    "    print(\"Greater than 10\")\n",
    "elif x < 10:\n",
    "    print(\"Less than 10\")\n",
    "else:\n",
    "    print(\"Equals to 10\")"
   ]
  },
  {
   "cell_type": "code",
   "execution_count": 3,
   "id": "9fa84878-c122-4542-a35d-dc1de8831273",
   "metadata": {},
   "outputs": [
    {
     "name": "stdout",
     "output_type": "stream",
     "text": [
      "1\n",
      "2\n",
      "3\n",
      "4\n",
      "5\n",
      "6\n",
      "7\n",
      "8\n",
      "9\n",
      "10\n"
     ]
    }
   ],
   "source": [
    "c = 1\n",
    "while c<=10:\n",
    "    print(c)\n",
    "    c=c+1"
   ]
  },
  {
   "cell_type": "raw",
   "id": "f8d6f08d-c049-4afa-9ff1-97dff1ee9757",
   "metadata": {},
   "source": [
    "Q3. The mutable and the immutable objects\n",
    "\n",
    "Mutable-> The objects whose state or value can be change changed afetr they are created are called mutable objects.\n",
    "\n",
    "for example: list, Dictionary, set,etc."
   ]
  },
  {
   "cell_type": "code",
   "execution_count": 4,
   "id": "f8322412-45fa-4782-967a-f3b45a1c9865",
   "metadata": {},
   "outputs": [
    {
     "name": "stdout",
     "output_type": "stream",
     "text": [
      "[1, 2, 3, 4, 5, 6, 7, 8, 9]\n",
      "[1, 0, 3, 4, 5, 6, 7, 8, 9]\n"
     ]
    }
   ],
   "source": [
    "list1 = [1,2,3,4,5,6,7,8,9]\n",
    "print(list1)\n",
    "list1[1]=0     #change the value to 0 at the index 1\n",
    "print(list1)"
   ]
  },
  {
   "cell_type": "code",
   "execution_count": 5,
   "id": "039d3530-b4b4-48ea-a0a7-7ad4a3f1b343",
   "metadata": {},
   "outputs": [
    {
     "name": "stdout",
     "output_type": "stream",
     "text": [
      "[1, 2, 3, 'Abc', 'Ajay']\n",
      "[1, 2, 3, 'Abc', 'Anjali']\n"
     ]
    }
   ],
   "source": [
    "list1 = [1,2,3,\"Abc\",\"Ajay\"]\n",
    "print(list1)\n",
    "list1[4]=\"Anjali\"\n",
    "print(list1)"
   ]
  },
  {
   "cell_type": "raw",
   "id": "ec823cbc-cf4b-4937-9657-83d8c35ff8a8",
   "metadata": {},
   "source": [
    "Immutable objects -> The objects whose values cannot be changed after they are created are known as immutable objects.\n",
    "\n",
    "for example: string, tuples, etc"
   ]
  },
  {
   "cell_type": "code",
   "execution_count": 6,
   "id": "1b98fcf1-3522-425b-aa5b-415c362bbf0b",
   "metadata": {},
   "outputs": [
    {
     "name": "stdout",
     "output_type": "stream",
     "text": [
      "Abc\n"
     ]
    },
    {
     "ename": "TypeError",
     "evalue": "'str' object does not support item assignment",
     "output_type": "error",
     "traceback": [
      "\u001b[0;31m---------------------------------------------------------------------------\u001b[0m",
      "\u001b[0;31mTypeError\u001b[0m                                 Traceback (most recent call last)",
      "Cell \u001b[0;32mIn[6], line 3\u001b[0m\n\u001b[1;32m      1\u001b[0m x \u001b[38;5;241m=\u001b[39m \u001b[38;5;124m\"\u001b[39m\u001b[38;5;124mAbc\u001b[39m\u001b[38;5;124m\"\u001b[39m\n\u001b[1;32m      2\u001b[0m \u001b[38;5;28mprint\u001b[39m(x)\n\u001b[0;32m----> 3\u001b[0m \u001b[43mx\u001b[49m\u001b[43m[\u001b[49m\u001b[38;5;241;43m1\u001b[39;49m\u001b[43m]\u001b[49m\u001b[38;5;241m=\u001b[39m\u001b[38;5;124m\"\u001b[39m\u001b[38;5;124my\u001b[39m\u001b[38;5;124m\"\u001b[39m\n\u001b[1;32m      4\u001b[0m \u001b[38;5;28mprint\u001b[39m(x)\n",
      "\u001b[0;31mTypeError\u001b[0m: 'str' object does not support item assignment"
     ]
    }
   ],
   "source": [
    "x = \"Abc\"\n",
    "print(x)\n",
    "x[1]=\"y\"\n",
    "print(x)"
   ]
  },
  {
   "cell_type": "raw",
   "id": "db46c525-be68-4983-9d40-3b8a1b33ec82",
   "metadata": {},
   "source": [
    "Q4. Types of operators in Python\n",
    "\n",
    "Operators are the special keywords that are used to perform the opertion on the values or variables.\n",
    "\n",
    "Types:\n",
    "\n",
    "- Arthmetic operators\n",
    "- Comparision operator\n",
    "- Logical operator\n",
    "- Bitwise operator\n",
    "- Assignment operator\n",
    "- Membership operator\n",
    "- Identity operator"
   ]
  },
  {
   "cell_type": "code",
   "execution_count": 8,
   "id": "43177d62-5001-4a98-8f3b-6f6cfa521f2e",
   "metadata": {},
   "outputs": [
    {
     "name": "stdin",
     "output_type": "stream",
     "text": [
      "Enter a: 5\n",
      "Enter b: 5\n"
     ]
    },
    {
     "name": "stdout",
     "output_type": "stream",
     "text": [
      "Addition:  10\n",
      "Sub:  0\n",
      "Multiplication:  25\n",
      "Division:  1.0\n"
     ]
    }
   ],
   "source": [
    "# Arthmetic operators\n",
    "\n",
    "a= int(input(\"Enter a:\"))\n",
    "b= int(input(\"Enter b:\"))\n",
    "c= a+b\n",
    "print(\"Addition: \",c)\n",
    "d= a-b\n",
    "print(\"Sub: \",d)\n",
    "e= a*b\n",
    "print(\"Multiplication: \",e)\n",
    "f= a/b\n",
    "print(\"Division: \",f)"
   ]
  },
  {
   "cell_type": "code",
   "execution_count": 9,
   "id": "e5b61dca-ef68-4ce7-bbf2-9b23bc862c99",
   "metadata": {},
   "outputs": [
    {
     "name": "stdout",
     "output_type": "stream",
     "text": [
      "True\n"
     ]
    }
   ],
   "source": [
    "# Comparision operator\n",
    "a = 5\n",
    "b = 5\n",
    "print(a == b)"
   ]
  },
  {
   "cell_type": "code",
   "execution_count": 10,
   "id": "7647b8a3-e689-441c-8f00-a18620a99869",
   "metadata": {},
   "outputs": [
    {
     "name": "stdout",
     "output_type": "stream",
     "text": [
      "False\n"
     ]
    }
   ],
   "source": [
    "a = 5\n",
    "b = 5\n",
    "print(a != b)"
   ]
  },
  {
   "cell_type": "code",
   "execution_count": 11,
   "id": "0bae5d52-88b3-4ee2-b1a6-09070f70866a",
   "metadata": {},
   "outputs": [
    {
     "name": "stdout",
     "output_type": "stream",
     "text": [
      "True\n"
     ]
    }
   ],
   "source": [
    "a = 2\n",
    "b = 5\n",
    "print(a < b)"
   ]
  },
  {
   "cell_type": "code",
   "execution_count": 12,
   "id": "4b196b54-dfe9-4052-9d98-40703002644a",
   "metadata": {},
   "outputs": [
    {
     "name": "stdout",
     "output_type": "stream",
     "text": [
      "a is between 10 and 20\n"
     ]
    }
   ],
   "source": [
    "# Logical operator\n",
    "a=15\n",
    "if((a>10) and (a<20)):\n",
    "    print(\"a is between 10 and 20\")"
   ]
  },
  {
   "cell_type": "code",
   "execution_count": 15,
   "id": "0af26f49-a355-4318-a190-52c4cc1df4f3",
   "metadata": {},
   "outputs": [
    {
     "name": "stdout",
     "output_type": "stream",
     "text": [
      "a is between 10 and 20\n"
     ]
    }
   ],
   "source": [
    "a=10\n",
    "if((a>=10) or (a<5)):\n",
    "    print(\"a is between 10 and 20\")"
   ]
  },
  {
   "cell_type": "code",
   "execution_count": 18,
   "id": "d72ffb6e-af45-421f-adcb-4b28ad5cc357",
   "metadata": {},
   "outputs": [
    {
     "name": "stdout",
     "output_type": "stream",
     "text": [
      "7\n"
     ]
    }
   ],
   "source": [
    "# Bitwise operator - operations at bit level\n",
    "\n",
    "print(3|5)"
   ]
  },
  {
   "cell_type": "code",
   "execution_count": 19,
   "id": "a0433cb2-a66d-48a3-8055-c7cecd9695af",
   "metadata": {},
   "outputs": [
    {
     "name": "stdout",
     "output_type": "stream",
     "text": [
      "1\n"
     ]
    }
   ],
   "source": [
    "print(3&5)"
   ]
  },
  {
   "cell_type": "code",
   "execution_count": 20,
   "id": "bbbfbef5-72ad-423b-95f9-4fdfc6dc1459",
   "metadata": {},
   "outputs": [
    {
     "name": "stdout",
     "output_type": "stream",
     "text": [
      "-4\n"
     ]
    }
   ],
   "source": [
    "print(~3)"
   ]
  },
  {
   "cell_type": "code",
   "execution_count": 21,
   "id": "2d2692bc-8126-4057-90e0-a084a20af2b6",
   "metadata": {},
   "outputs": [
    {
     "name": "stdout",
     "output_type": "stream",
     "text": [
      "6\n"
     ]
    }
   ],
   "source": [
    "# In XOR returns 1 when exactly one operand is 1\n",
    "\n",
    "print(5^3)"
   ]
  },
  {
   "cell_type": "code",
   "execution_count": 22,
   "id": "46e9bf68-4e78-4673-8cab-e60d1c95749f",
   "metadata": {},
   "outputs": [
    {
     "data": {
      "text/plain": [
       "'0b101'"
      ]
     },
     "execution_count": 22,
     "metadata": {},
     "output_type": "execute_result"
    }
   ],
   "source": [
    "bin(5)"
   ]
  },
  {
   "cell_type": "code",
   "execution_count": 23,
   "id": "5d57f6c9-a7c8-40f3-9756-7245ec794623",
   "metadata": {},
   "outputs": [
    {
     "data": {
      "text/plain": [
       "'0b11'"
      ]
     },
     "execution_count": 23,
     "metadata": {},
     "output_type": "execute_result"
    }
   ],
   "source": [
    "bin(3)"
   ]
  },
  {
   "cell_type": "code",
   "execution_count": 24,
   "id": "6a3bf43b-bbad-45d9-baa6-28d3b08fa5bc",
   "metadata": {},
   "outputs": [
    {
     "data": {
      "text/plain": [
       "'0b110'"
      ]
     },
     "execution_count": 24,
     "metadata": {},
     "output_type": "execute_result"
    }
   ],
   "source": [
    "bin(6)"
   ]
  },
  {
   "cell_type": "code",
   "execution_count": 28,
   "id": "6c3732c0-ddd0-4473-8201-26dec2090fc1",
   "metadata": {},
   "outputs": [],
   "source": [
    "# 5^3 = 6        101^011 = 110"
   ]
  },
  {
   "cell_type": "code",
   "execution_count": 30,
   "id": "50ba843c-25f0-4dac-bdf5-01cce87f59bd",
   "metadata": {},
   "outputs": [
    {
     "name": "stdout",
     "output_type": "stream",
     "text": [
      "8\n"
     ]
    }
   ],
   "source": [
    "# Assignment operator\n",
    "x = 5\n",
    "x += 3  # Equivalent to x = x + 3\n",
    "print(x)"
   ]
  },
  {
   "cell_type": "code",
   "execution_count": 32,
   "id": "5807e2f2-954a-47de-8a79-8f117864e772",
   "metadata": {},
   "outputs": [
    {
     "data": {
      "text/plain": [
       "True"
      ]
     },
     "execution_count": 32,
     "metadata": {},
     "output_type": "execute_result"
    }
   ],
   "source": [
    "# Membership operator\n",
    "\n",
    "a=\"ANJALI\"\n",
    "\"N\" in a"
   ]
  },
  {
   "cell_type": "code",
   "execution_count": 34,
   "id": "2681018d-6222-4f1b-8669-08d02d0be64f",
   "metadata": {},
   "outputs": [
    {
     "data": {
      "text/plain": [
       "False"
      ]
     },
     "execution_count": 34,
     "metadata": {},
     "output_type": "execute_result"
    }
   ],
   "source": [
    "a=\"ANJALI\"\n",
    "\"N\" not in a"
   ]
  },
  {
   "cell_type": "code",
   "execution_count": 35,
   "id": "fa098f5d-6ce8-41fc-ba3f-9c9929e32ff5",
   "metadata": {},
   "outputs": [
    {
     "data": {
      "text/plain": [
       "False"
      ]
     },
     "execution_count": 35,
     "metadata": {},
     "output_type": "execute_result"
    }
   ],
   "source": [
    "# Identity operator\n",
    "\n",
    "a=3\n",
    "b=2\n",
    "\n",
    "a is b"
   ]
  },
  {
   "cell_type": "code",
   "execution_count": 36,
   "id": "72e1dfa8-127d-4f1f-b99a-58a517b9133b",
   "metadata": {},
   "outputs": [
    {
     "data": {
      "text/plain": [
       "True"
      ]
     },
     "execution_count": 36,
     "metadata": {},
     "output_type": "execute_result"
    }
   ],
   "source": [
    "a=3\n",
    "b=2\n",
    "\n",
    "a is not b"
   ]
  },
  {
   "cell_type": "raw",
   "id": "8cc0a6ad-bac7-4d21-add5-96f4d467a8db",
   "metadata": {},
   "source": [
    "Shift operator(>>,<<)\n",
    "\n",
    "Left shift operator (<<) shifts the bits to the left by specified number of position by filling 0's on the right.\n",
    "\n",
    "Right shift (>>) operator shifts the bits to the right by specified number of position by filling 0's on the left."
   ]
  },
  {
   "cell_type": "code",
   "execution_count": 37,
   "id": "daf121eb-c368-4ce6-9cb3-c2a1ecae0353",
   "metadata": {},
   "outputs": [
    {
     "data": {
      "text/plain": [
       "10"
      ]
     },
     "execution_count": 37,
     "metadata": {},
     "output_type": "execute_result"
    }
   ],
   "source": [
    "5<<1"
   ]
  },
  {
   "cell_type": "code",
   "execution_count": 38,
   "id": "35f3b48b-1748-410a-84c8-16bc5a80fe4f",
   "metadata": {},
   "outputs": [
    {
     "data": {
      "text/plain": [
       "2"
      ]
     },
     "execution_count": 38,
     "metadata": {},
     "output_type": "execute_result"
    }
   ],
   "source": [
    "5>>1"
   ]
  },
  {
   "cell_type": "raw",
   "id": "b9eb6ba2-de2f-4361-9ab3-8e254599edd2",
   "metadata": {},
   "source": [
    "Q5. Type casting\n",
    "\n",
    "The process of changing the data type of a value or an object is knowmn as type casting.\n",
    "\n",
    "This is important for performing operations that require specific data types or for manipulating data in a compatible format."
   ]
  },
  {
   "cell_type": "code",
   "execution_count": 39,
   "id": "ba98edd9-8082-4397-97ff-078b54a5adc0",
   "metadata": {},
   "outputs": [
    {
     "name": "stdout",
     "output_type": "stream",
     "text": [
      "5\n"
     ]
    }
   ],
   "source": [
    "a=\"2\"\n",
    "b=3\n",
    "c=int(a)+b     #converting string into integer\n",
    "print(c)"
   ]
  },
  {
   "cell_type": "code",
   "execution_count": 40,
   "id": "100b7c74-2a05-4644-a6b0-07530763e5c9",
   "metadata": {},
   "outputs": [
    {
     "data": {
      "text/plain": [
       "2.0"
      ]
     },
     "execution_count": 40,
     "metadata": {},
     "output_type": "execute_result"
    }
   ],
   "source": [
    "a=2\n",
    "float(a)     #converting into float"
   ]
  },
  {
   "cell_type": "code",
   "execution_count": 41,
   "id": "0fd42fc7-7c3a-41a8-96a9-fab1f9f6bd43",
   "metadata": {},
   "outputs": [
    {
     "data": {
      "text/plain": [
       "'2'"
      ]
     },
     "execution_count": 41,
     "metadata": {},
     "output_type": "execute_result"
    }
   ],
   "source": [
    "a=2\n",
    "str(a) "
   ]
  },
  {
   "cell_type": "raw",
   "id": "a8ee377c-40e1-45c9-9f50-4df23beaa540",
   "metadata": {},
   "source": [
    "There are 2 types of type casting:\n",
    "Implicit - python understands the data type\n",
    "Explicit - converts the data type using inbuilt function"
   ]
  },
  {
   "cell_type": "code",
   "execution_count": 46,
   "id": "efb4efd9-1e13-4af0-b23a-97692ca9f6c4",
   "metadata": {},
   "outputs": [
    {
     "name": "stdout",
     "output_type": "stream",
     "text": [
      "13.1\n"
     ]
    }
   ],
   "source": [
    "# Implicit type casting\n",
    "x = 10       # Integer\n",
    "y = 3.1     # Float\n",
    "result = x + y #automatically converts into float\n",
    "print(result)"
   ]
  },
  {
   "cell_type": "code",
   "execution_count": 47,
   "id": "68b90fec-8885-4888-a709-f7c192d4d057",
   "metadata": {},
   "outputs": [
    {
     "name": "stdout",
     "output_type": "stream",
     "text": [
      "123\n",
      "<class 'int'>\n"
     ]
    }
   ],
   "source": [
    "# Explicit type casting\n",
    "\n",
    "n = \"123\"\n",
    "n = int(n)  # converts the string to an integer\n",
    "print(n)         # Output: 123\n",
    "print(type(n)) "
   ]
  },
  {
   "cell_type": "raw",
   "id": "20379a9b-37fd-4bbc-ba32-91698a0559f2",
   "metadata": {},
   "source": [
    "Q6. Conditional statements\n",
    "\n",
    "These statements are used code the decisions based on preconditions\n",
    "\n",
    "There are various types of conditional statements:\n",
    "if\n",
    "if else\n",
    "if elif else\n",
    "nested if else"
   ]
  },
  {
   "cell_type": "code",
   "execution_count": 48,
   "id": "53d08464-f87a-4ad5-8c65-db12dd24f800",
   "metadata": {},
   "outputs": [
    {
     "name": "stdout",
     "output_type": "stream",
     "text": [
      "a is greater than 5\n"
     ]
    }
   ],
   "source": [
    "A=10\n",
    "\n",
    "if A>5:\n",
    "    print(\"a is greater than 5\")"
   ]
  },
  {
   "cell_type": "code",
   "execution_count": 52,
   "id": "cb059636-7545-46c5-82f3-95fd547b4383",
   "metadata": {},
   "outputs": [
    {
     "name": "stdout",
     "output_type": "stream",
     "text": [
      "number is even\n"
     ]
    }
   ],
   "source": [
    "# if else\n",
    "# odd or even number\n",
    "A=10\n",
    "\n",
    "if A%2==0:\n",
    "    print(\"number is even\")\n",
    "else:\n",
    "    print(\"number is odd\")"
   ]
  },
  {
   "cell_type": "code",
   "execution_count": 53,
   "id": "43a143e5-8500-4ed9-99b2-c6717d221616",
   "metadata": {},
   "outputs": [
    {
     "name": "stdout",
     "output_type": "stream",
     "text": [
      "Greater than 100\n"
     ]
    }
   ],
   "source": [
    "# if elif else\n",
    "A=101\n",
    "\n",
    "if A<100:\n",
    "    print(\"Less than 100\")\n",
    "elif A>200:\n",
    "    print(\"Greater than 200\")\n",
    "elif A>100:\n",
    "    print(\"Greater than 100\")\n",
    "else:\n",
    "    print(\"Equals to 100\")"
   ]
  },
  {
   "cell_type": "code",
   "execution_count": 56,
   "id": "07f83f49-72b7-423b-aa1f-dd5f34c91b9f",
   "metadata": {},
   "outputs": [
    {
     "name": "stdout",
     "output_type": "stream",
     "text": [
      "b is greatest\n"
     ]
    }
   ],
   "source": [
    "# nested if else\n",
    "# greater number in a, b, c\n",
    "\n",
    "a=2\n",
    "b=3\n",
    "c=1\n",
    "\n",
    "if a>b:\n",
    "    if a>c:\n",
    "        print(\"a is greatest\")\n",
    "    else:\n",
    "        print(\"c is greatest\")\n",
    "else:\n",
    "    if b>c:\n",
    "        print(\"b is greatest\")\n",
    "    else:\n",
    "        print(\"c is greatest\")"
   ]
  },
  {
   "cell_type": "raw",
   "id": "2743e740-a8ef-41ac-8b58-94cb3e124dc6",
   "metadata": {},
   "source": [
    "Q7. Loops in Python\n",
    "\n",
    "The loops in python are used to execute a block of code repeatedly based on certain conditions. \n",
    "\n",
    "While loop -> The while loop repeatedly executes a block of code until the condition is True.\n",
    "\n",
    "For loop -> The for loop iterates over a sequence and executes a block of code for each item in the sequence."
   ]
  },
  {
   "cell_type": "code",
   "execution_count": 57,
   "id": "432fadc1-99b5-4611-9c8f-f026a6ebea4a",
   "metadata": {},
   "outputs": [
    {
     "name": "stdout",
     "output_type": "stream",
     "text": [
      "1\n",
      "2\n",
      "3\n",
      "4\n",
      "5\n",
      "6\n"
     ]
    }
   ],
   "source": [
    "n=7\n",
    "i=1\n",
    "\n",
    "while i<n:\n",
    "    print(i)\n",
    "    i=i+1"
   ]
  },
  {
   "cell_type": "code",
   "execution_count": 58,
   "id": "0c4e4624-5708-453a-85b1-318704d776ff",
   "metadata": {},
   "outputs": [
    {
     "name": "stdout",
     "output_type": "stream",
     "text": [
      "1\n",
      "2\n",
      "3\n",
      "4\n",
      "5\n",
      "6\n",
      "This will be printed when the while loop has run successfully\n"
     ]
    }
   ],
   "source": [
    "n=7\n",
    "i=1\n",
    "\n",
    "while i<n:\n",
    "    print(i)\n",
    "    i=i+1\n",
    "else:\n",
    "    print(\"This will be printed when the while loop has run successfully\")"
   ]
  },
  {
   "cell_type": "code",
   "execution_count": 62,
   "id": "2913eef1-7767-47ad-a291-ecd263ea29dd",
   "metadata": {},
   "outputs": [
    {
     "name": "stdout",
     "output_type": "stream",
     "text": [
      "1\n",
      "2\n",
      "3\n",
      "4\n"
     ]
    }
   ],
   "source": [
    "n=7\n",
    "i=1\n",
    "\n",
    "while i<n:\n",
    "    print(i)\n",
    "    i=i+1\n",
    "    if i==5:\n",
    "        break\n",
    "else:\n",
    "    print(\"While loop has run successfully\")"
   ]
  },
  {
   "cell_type": "code",
   "execution_count": 61,
   "id": "dadcc4a3-7fb3-4fa5-b112-425b854fd557",
   "metadata": {},
   "outputs": [
    {
     "name": "stdout",
     "output_type": "stream",
     "text": [
      "2\n",
      "3\n",
      "4\n",
      "6\n",
      "7\n",
      "While loop has run successfully\n"
     ]
    }
   ],
   "source": [
    "n=7\n",
    "i=1\n",
    "\n",
    "while i<n:\n",
    "    i=i+1\n",
    "    if i==5:\n",
    "        continue\n",
    "    print(i)\n",
    "else:\n",
    "    print(\"While loop has run successfully\")"
   ]
  },
  {
   "cell_type": "code",
   "execution_count": 63,
   "id": "8088cbca-8d36-4155-96cd-421c6be1e78e",
   "metadata": {},
   "outputs": [
    {
     "name": "stdout",
     "output_type": "stream",
     "text": [
      "A\n",
      "n\n",
      "j\n",
      "a\n",
      "l\n",
      "i\n"
     ]
    }
   ],
   "source": [
    "# For loops\n",
    "\n",
    "for i in \"Anjali\":\n",
    "    print(i)"
   ]
  },
  {
   "cell_type": "code",
   "execution_count": 64,
   "id": "924c46d5-710b-469c-b86d-c8a722b2ebb2",
   "metadata": {},
   "outputs": [
    {
     "name": "stdout",
     "output_type": "stream",
     "text": [
      "emp\n",
      "Employee\n",
      "abc\n",
      "Executed without a break statment\n"
     ]
    }
   ],
   "source": [
    "l=[\"emp\",\"Employee\",\"Anjali\",\"abc\"]\n",
    "\n",
    "for i in l:\n",
    "    if i==\"Anjali\":\n",
    "        continue\n",
    "    print(i)\n",
    "else:\n",
    "    print(\"Executed without a break statment\")"
   ]
  },
  {
   "cell_type": "code",
   "execution_count": 66,
   "id": "d75b700a-92e9-440d-9578-70d83be9d0d6",
   "metadata": {},
   "outputs": [
    {
     "name": "stdout",
     "output_type": "stream",
     "text": [
      "emp\n",
      "Employee\n"
     ]
    }
   ],
   "source": [
    "for i in l:\n",
    "    if i==\"Anjali\":\n",
    "        break\n",
    "    print(i)\n",
    "else:\n",
    "    print(\"Executed without a break statment\")"
   ]
  },
  {
   "cell_type": "code",
   "execution_count": 68,
   "id": "2aafc26d-0611-4f60-ab27-4e399dd218a4",
   "metadata": {},
   "outputs": [
    {
     "name": "stdout",
     "output_type": "stream",
     "text": [
      "* * * * * \n",
      "* * * * * \n",
      "* * * * * \n",
      "* * * * * \n",
      "* * * * * \n"
     ]
    }
   ],
   "source": [
    "row=1\n",
    "while row<=5:\n",
    "    col=1\n",
    "    while col<=5:\n",
    "        print(\"*\", end=\" \")\n",
    "        col=col+1\n",
    "    print()\n",
    "    row=row+1"
   ]
  },
  {
   "cell_type": "code",
   "execution_count": 70,
   "id": "7b321a5a-eb43-4e47-b97f-ecc91afe0ef5",
   "metadata": {},
   "outputs": [
    {
     "name": "stdout",
     "output_type": "stream",
     "text": [
      "0 1 2 3 4 5 6 7 8 9 10 "
     ]
    }
   ],
   "source": [
    "# use case in loops\n",
    "for i in range(0,11):\n",
    "    print(i, end=\" \")"
   ]
  }
 ],
 "metadata": {
  "kernelspec": {
   "display_name": "Python 3 (ipykernel)",
   "language": "python",
   "name": "python3"
  },
  "language_info": {
   "codemirror_mode": {
    "name": "ipython",
    "version": 3
   },
   "file_extension": ".py",
   "mimetype": "text/x-python",
   "name": "python",
   "nbconvert_exporter": "python",
   "pygments_lexer": "ipython3",
   "version": "3.10.8"
  }
 },
 "nbformat": 4,
 "nbformat_minor": 5
}
